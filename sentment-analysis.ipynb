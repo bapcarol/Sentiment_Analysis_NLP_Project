{
 "metadata": {
  "language_info": {
   "codemirror_mode": {
    "name": "ipython",
    "version": 3
   },
   "file_extension": ".py",
   "mimetype": "text/x-python",
   "name": "python",
   "nbconvert_exporter": "python",
   "pygments_lexer": "ipython3",
   "version": "3.8.5"
  },
  "orig_nbformat": 2,
  "kernelspec": {
   "name": "python385jvsc74a57bd00d4c65c75e8d77494fea90d9b833b0e730dd05215295028bcf5830c5d86920df",
   "display_name": "Python 3.8.5 64-bit ('CarolinaBaptistadeLi': virtualenv)"
  }
 },
 "nbformat": 4,
 "nbformat_minor": 2,
 "cells": [
  {
   "cell_type": "code",
   "execution_count": 1,
   "metadata": {},
   "outputs": [],
   "source": [
    "# Import Libraries\n",
    "from textblob import TextBlob\n",
    "import sys\n",
    "import tweepy\n",
    "import matplotlib.pyplot as plt\n",
    "import pandas as pd\n",
    "import numpy as np\n",
    "import os\n",
    "import nltk\n",
    "import json, io\n",
    "import pycountry\n",
    "import re\n",
    "import string\n",
    "from wordcloud import WordCloud, STOPWORDS\n",
    "from PIL import Image\n",
    "from nltk.sentiment.vader import SentimentIntensityAnalyzer\n",
    "from langdetect import detect\n",
    "from nltk.stem import SnowballStemmer\n",
    "from nltk.sentiment.vader import SentimentIntensityAnalyzer\n",
    "from sklearn.feature_extraction.text import CountVectorizer"
   ]
  },
  {
   "cell_type": "code",
   "execution_count": 2,
   "metadata": {},
   "outputs": [],
   "source": [
    "#Import Configuration\n",
    "args = json.loads(open(r\"config.json\",'rb').read())"
   ]
  },
  {
   "cell_type": "code",
   "execution_count": 3,
   "metadata": {},
   "outputs": [],
   "source": [
    "# Authentication\n",
    "consumerKey = args[\"authentication_keys\"][\"consumerKey\"]\n",
    "consumerSecret = args[\"authentication_keys\"][\"consumerSecret\"]\n",
    "accessToken = args[\"authentication_keys\"][\"accessToken\"]\n",
    "accessTokenSecret = args[\"authentication_keys\"][\"accessTokenSecret\"]\n",
    "\n",
    "auth = tweepy.OAuthHandler(consumerKey, consumerSecret)\n",
    "auth.set_access_token(accessToken, accessTokenSecret)\n",
    "api = tweepy.API(auth)"
   ]
  },
  {
   "cell_type": "code",
   "execution_count": 8,
   "metadata": {},
   "outputs": [],
   "source": [
    "keyword = '#BBB21'\n",
    "noOfTweet = 1000\n",
    "stDate = '2021-05-06'\n",
    "edDate = '2021-05-07'\n",
    "tmpTweets = tweepy.Cursor(api.search, q=keyword, since=stDate,until=edDate).items(noOfTweet)"
   ]
  },
  {
   "cell_type": "code",
   "execution_count": 7,
   "metadata": {},
   "outputs": [
    {
     "output_type": "stream",
     "name": "stdout",
     "text": [
      "100\n"
     ]
    }
   ],
   "source": [
    "i = 0\n",
    "for tweet in tmpTweets:\n",
    "    i += 1\n",
    "\n",
    "print(i)"
   ]
  },
  {
   "cell_type": "code",
   "execution_count": 50,
   "metadata": {},
   "outputs": [
    {
     "output_type": "execute_result",
     "data": {
      "text/plain": [
       "                       created_at                   id               id_str  \\\n",
       "0  Thu May 06 00:25:31 +0000 2021  1390100379510132736  1390100379510132736   \n",
       "1  Thu May 06 02:34:32 +0000 2021  1390132846996639745  1390132846996639745   \n",
       "2  Thu May 06 14:43:24 +0000 2021  1390316270533423111  1390316270533423111   \n",
       "3  Thu May 06 02:04:15 +0000 2021  1390125225107394565  1390125225107394565   \n",
       "4  Thu May 06 14:46:43 +0000 2021  1390317106072375303  1390317106072375303   \n",
       "\n",
       "                                                text  truncated  \\\n",
       "0  Os cantores da edição vendo a Juliette ganhar ...      False   \n",
       "1  #BBB21: Juliette recebe convite de gravadora e...       True   \n",
       "2  MAIS UM CONVITE! Wesley Safadão revelou no Enc...       True   \n",
       "3  Será que já posso shippar? 💕 @luansantana conv...       True   \n",
       "4  .@brauliobessa faz lindo cordel em homenagem a...       True   \n",
       "\n",
       "                                              source in_reply_to_status_id  \\\n",
       "0  <a href=\"http://twitter.com/download/iphone\" r...                  None   \n",
       "1  <a href=\"http://twitter.com/download/iphone\" r...                  None   \n",
       "2  <a href=\"http://twitter.com/download/iphone\" r...                  None   \n",
       "3  <a href=\"https://mobile.twitter.com\" rel=\"nofo...                  None   \n",
       "4  <a href=\"https://studio.twitter.com\" rel=\"nofo...                  None   \n",
       "\n",
       "  in_reply_to_status_id_str in_reply_to_user_id in_reply_to_user_id_str  ...  \\\n",
       "0                      None                None                    None  ...   \n",
       "1                      None                None                    None  ...   \n",
       "2                      None                None                    None  ...   \n",
       "3                      None                None                    None  ...   \n",
       "4                      None                None                    None  ...   \n",
       "\n",
       "  place.id place.url place.place_type  place.name place.full_name  \\\n",
       "0      NaN       NaN              NaN         NaN             NaN   \n",
       "1      NaN       NaN              NaN         NaN             NaN   \n",
       "2      NaN       NaN              NaN         NaN             NaN   \n",
       "3      NaN       NaN              NaN         NaN             NaN   \n",
       "4      NaN       NaN              NaN         NaN             NaN   \n",
       "\n",
       "   place.country_code  place.country  place.contained_within  \\\n",
       "0                 NaN            NaN                     NaN   \n",
       "1                 NaN            NaN                     NaN   \n",
       "2                 NaN            NaN                     NaN   \n",
       "3                 NaN            NaN                     NaN   \n",
       "4                 NaN            NaN                     NaN   \n",
       "\n",
       "   place.bounding_box.type  place.bounding_box.coordinates  \n",
       "0                      NaN                             NaN  \n",
       "1                      NaN                             NaN  \n",
       "2                      NaN                             NaN  \n",
       "3                      NaN                             NaN  \n",
       "4                      NaN                             NaN  \n",
       "\n",
       "[5 rows x 84 columns]"
      ],
      "text/html": "<div>\n<style scoped>\n    .dataframe tbody tr th:only-of-type {\n        vertical-align: middle;\n    }\n\n    .dataframe tbody tr th {\n        vertical-align: top;\n    }\n\n    .dataframe thead th {\n        text-align: right;\n    }\n</style>\n<table border=\"1\" class=\"dataframe\">\n  <thead>\n    <tr style=\"text-align: right;\">\n      <th></th>\n      <th>created_at</th>\n      <th>id</th>\n      <th>id_str</th>\n      <th>text</th>\n      <th>truncated</th>\n      <th>source</th>\n      <th>in_reply_to_status_id</th>\n      <th>in_reply_to_status_id_str</th>\n      <th>in_reply_to_user_id</th>\n      <th>in_reply_to_user_id_str</th>\n      <th>...</th>\n      <th>place.id</th>\n      <th>place.url</th>\n      <th>place.place_type</th>\n      <th>place.name</th>\n      <th>place.full_name</th>\n      <th>place.country_code</th>\n      <th>place.country</th>\n      <th>place.contained_within</th>\n      <th>place.bounding_box.type</th>\n      <th>place.bounding_box.coordinates</th>\n    </tr>\n  </thead>\n  <tbody>\n    <tr>\n      <th>0</th>\n      <td>Thu May 06 00:25:31 +0000 2021</td>\n      <td>1390100379510132736</td>\n      <td>1390100379510132736</td>\n      <td>Os cantores da edição vendo a Juliette ganhar ...</td>\n      <td>False</td>\n      <td>&lt;a href=\"http://twitter.com/download/iphone\" r...</td>\n      <td>None</td>\n      <td>None</td>\n      <td>None</td>\n      <td>None</td>\n      <td>...</td>\n      <td>NaN</td>\n      <td>NaN</td>\n      <td>NaN</td>\n      <td>NaN</td>\n      <td>NaN</td>\n      <td>NaN</td>\n      <td>NaN</td>\n      <td>NaN</td>\n      <td>NaN</td>\n      <td>NaN</td>\n    </tr>\n    <tr>\n      <th>1</th>\n      <td>Thu May 06 02:34:32 +0000 2021</td>\n      <td>1390132846996639745</td>\n      <td>1390132846996639745</td>\n      <td>#BBB21: Juliette recebe convite de gravadora e...</td>\n      <td>True</td>\n      <td>&lt;a href=\"http://twitter.com/download/iphone\" r...</td>\n      <td>None</td>\n      <td>None</td>\n      <td>None</td>\n      <td>None</td>\n      <td>...</td>\n      <td>NaN</td>\n      <td>NaN</td>\n      <td>NaN</td>\n      <td>NaN</td>\n      <td>NaN</td>\n      <td>NaN</td>\n      <td>NaN</td>\n      <td>NaN</td>\n      <td>NaN</td>\n      <td>NaN</td>\n    </tr>\n    <tr>\n      <th>2</th>\n      <td>Thu May 06 14:43:24 +0000 2021</td>\n      <td>1390316270533423111</td>\n      <td>1390316270533423111</td>\n      <td>MAIS UM CONVITE! Wesley Safadão revelou no Enc...</td>\n      <td>True</td>\n      <td>&lt;a href=\"http://twitter.com/download/iphone\" r...</td>\n      <td>None</td>\n      <td>None</td>\n      <td>None</td>\n      <td>None</td>\n      <td>...</td>\n      <td>NaN</td>\n      <td>NaN</td>\n      <td>NaN</td>\n      <td>NaN</td>\n      <td>NaN</td>\n      <td>NaN</td>\n      <td>NaN</td>\n      <td>NaN</td>\n      <td>NaN</td>\n      <td>NaN</td>\n    </tr>\n    <tr>\n      <th>3</th>\n      <td>Thu May 06 02:04:15 +0000 2021</td>\n      <td>1390125225107394565</td>\n      <td>1390125225107394565</td>\n      <td>Será que já posso shippar? 💕 @luansantana conv...</td>\n      <td>True</td>\n      <td>&lt;a href=\"https://mobile.twitter.com\" rel=\"nofo...</td>\n      <td>None</td>\n      <td>None</td>\n      <td>None</td>\n      <td>None</td>\n      <td>...</td>\n      <td>NaN</td>\n      <td>NaN</td>\n      <td>NaN</td>\n      <td>NaN</td>\n      <td>NaN</td>\n      <td>NaN</td>\n      <td>NaN</td>\n      <td>NaN</td>\n      <td>NaN</td>\n      <td>NaN</td>\n    </tr>\n    <tr>\n      <th>4</th>\n      <td>Thu May 06 14:46:43 +0000 2021</td>\n      <td>1390317106072375303</td>\n      <td>1390317106072375303</td>\n      <td>.@brauliobessa faz lindo cordel em homenagem a...</td>\n      <td>True</td>\n      <td>&lt;a href=\"https://studio.twitter.com\" rel=\"nofo...</td>\n      <td>None</td>\n      <td>None</td>\n      <td>None</td>\n      <td>None</td>\n      <td>...</td>\n      <td>NaN</td>\n      <td>NaN</td>\n      <td>NaN</td>\n      <td>NaN</td>\n      <td>NaN</td>\n      <td>NaN</td>\n      <td>NaN</td>\n      <td>NaN</td>\n      <td>NaN</td>\n      <td>NaN</td>\n    </tr>\n  </tbody>\n</table>\n<p>5 rows × 84 columns</p>\n</div>"
     },
     "metadata": {},
     "execution_count": 50
    }
   ],
   "source": [
    "tweets_test = [tweet._json for tweet in tmpTweets]\n",
    "\n",
    "df = pd.json_normalize(tweets_test)\n",
    "\n",
    "df.head()"
   ]
  },
  {
   "cell_type": "code",
   "execution_count": 51,
   "metadata": {},
   "outputs": [
    {
     "output_type": "execute_result",
     "data": {
      "text/plain": [
       "(22, 84)"
      ]
     },
     "metadata": {},
     "execution_count": 51
    }
   ],
   "source": [
    "df.shape"
   ]
  },
  {
   "cell_type": "code",
   "execution_count": 12,
   "metadata": {
    "tags": []
   },
   "outputs": [
    {
     "output_type": "execute_result",
     "data": {
      "text/plain": [
       "'\\nfor tweet in tmpTweets:\\n    if tweet.created_at < endDate and tweet.created_at > startDate:\\n        tweets.append(tweet)\\n\\nwhile (tmpTweets[-1].created_at > startDate):\\n    tmpTweets = api.user_timeline(username, max_id = tmpTweets[-1].id)\\n    for tweet in tmpTweets:\\n        if tweet.created_at < endDate and tweet.created_at > startDate:\\n            tweets.append(tweet)\\n'"
      ]
     },
     "metadata": {},
     "execution_count": 12
    }
   ],
   "source": [
    "import datetime\n",
    "\n",
    "startDate = datetime.datetime(2021, 5, 6, 0, 0, 0)\n",
    "endDate =   datetime.datetime(2021, 5, 6, 4, 0, 0)\n",
    "\n",
    "tweets = [tweet._json for tweet in tmpTweets if tweet.created_at < endDate and tweet.created_at > startDate]"
   ]
  }
 ]
}