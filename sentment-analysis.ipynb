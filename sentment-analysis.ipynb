{
 "metadata": {
  "language_info": {
   "codemirror_mode": {
    "name": "ipython",
    "version": 3
   },
   "file_extension": ".py",
   "mimetype": "text/x-python",
   "name": "python",
   "nbconvert_exporter": "python",
   "pygments_lexer": "ipython3",
   "version": "3.8.5"
  },
  "orig_nbformat": 2,
  "kernelspec": {
   "name": "python385jvsc74a57bd00d4c65c75e8d77494fea90d9b833b0e730dd05215295028bcf5830c5d86920df",
   "display_name": "Python 3.8.5 64-bit ('CarolinaBaptistadeLi': virtualenv)"
  }
 },
 "nbformat": 4,
 "nbformat_minor": 2,
 "cells": [
  {
   "cell_type": "code",
   "execution_count": 1,
   "metadata": {},
   "outputs": [],
   "source": [
    "# Import Libraries\n",
    "from textblob import TextBlob\n",
    "import sys\n",
    "import tweepy\n",
    "import matplotlib.pyplot as plt\n",
    "import pandas as pd\n",
    "import numpy as np\n",
    "import os\n",
    "import nltk\n",
    "import json, io\n",
    "import pycountry\n",
    "import re\n",
    "import string\n",
    "from wordcloud import WordCloud, STOPWORDS\n",
    "from PIL import Image\n",
    "from nltk.sentiment.vader import SentimentIntensityAnalyzer\n",
    "from langdetect import detect\n",
    "from nltk.stem import SnowballStemmer\n",
    "from nltk.sentiment.vader import SentimentIntensityAnalyzer\n",
    "from sklearn.feature_extraction.text import CountVectorizer"
   ]
  },
  {
   "cell_type": "code",
   "execution_count": 2,
   "metadata": {},
   "outputs": [],
   "source": [
    "#Import Configuration\n",
    "args = json.loads(open(r\"config.json\",'rb').read())"
   ]
  },
  {
   "cell_type": "code",
   "execution_count": 3,
   "metadata": {},
   "outputs": [],
   "source": [
    "# Authentication\n",
    "consumerKey = args[\"authentication_keys\"][\"consumerKey\"]\n",
    "consumerSecret = args[\"authentication_keys\"][\"consumerSecret\"]\n",
    "accessToken = args[\"authentication_keys\"][\"accessToken\"]\n",
    "accessTokenSecret = args[\"authentication_keys\"][\"accessTokenSecret\"]\n",
    "\n",
    "auth = tweepy.OAuthHandler(consumerKey, consumerSecret)\n",
    "auth.set_access_token(accessToken, accessTokenSecret)\n",
    "api = tweepy.API(auth)"
   ]
  },
  {
   "cell_type": "code",
   "execution_count": 8,
   "metadata": {},
   "outputs": [],
   "source": [
    "keyword = '#BBB21'\n",
    "noOfTweet = 1000\n",
    "stDate = '2021-05-06'\n",
    "edDate = '2021-05-07'\n",
    "tmpTweets = tweepy.Cursor(api.search, q=keyword, since=stDate,until=edDate).items(noOfTweet)"
   ]
  },
  {
   "cell_type": "code",
   "execution_count": 9,
   "metadata": {},
   "outputs": [
    {
     "output_type": "execute_result",
     "data": {
      "text/plain": [
       "                       created_at                   id               id_str  \\\n",
       "0  Thu May 06 23:59:54 +0000 2021  1390456320923418626  1390456320923418626   \n",
       "1  Thu May 06 23:59:54 +0000 2021  1390456319149289482  1390456319149289482   \n",
       "2  Thu May 06 23:59:53 +0000 2021  1390456316142002180  1390456316142002180   \n",
       "3  Thu May 06 23:59:53 +0000 2021  1390456313172406275  1390456313172406275   \n",
       "4  Thu May 06 23:59:52 +0000 2021  1390456309670203394  1390456309670203394   \n",
       "\n",
       "                                                text  truncated  \\\n",
       "0  @foryoushawnx mds?? \\n\\n #SarahAndrade TÔ COM ...       True   \n",
       "1   O que tem pra fazer hoje?\\nAbstinência de #BBB21      False   \n",
       "2  RT @JaimeFreir3: Olha o nome da cama 🤫😁 #BBB21...      False   \n",
       "3  @horanwllx .\\n\\nGilberto Carla Diaz Caio Arcre...       True   \n",
       "4  Eu não fico em cima do muro, nunca fiquei!!\\nD...       True   \n",
       "\n",
       "                                              source  in_reply_to_status_id  \\\n",
       "0  <a href=\"http://twitter.com/download/android\" ...           1.390367e+18   \n",
       "1  <a href=\"http://twitter.com/download/android\" ...                    NaN   \n",
       "2  <a href=\"http://twitter.com/download/android\" ...                    NaN   \n",
       "3  <a href=\"http://twitter.com/download/android\" ...           1.390456e+18   \n",
       "4  <a href=\"https://mobile.twitter.com\" rel=\"nofo...                    NaN   \n",
       "\n",
       "  in_reply_to_status_id_str  in_reply_to_user_id in_reply_to_user_id_str  ...  \\\n",
       "0       1390366772457521154         1.030465e+18     1030464798612484096  ...   \n",
       "1                      None                  NaN                    None  ...   \n",
       "2                      None                  NaN                    None  ...   \n",
       "3       1390455869519892480         1.305844e+18     1305843822526631941  ...   \n",
       "4                      None                  NaN                    None  ...   \n",
       "\n",
       "  retweeted_status.place.place_type retweeted_status.place.name  \\\n",
       "0                               NaN                         NaN   \n",
       "1                               NaN                         NaN   \n",
       "2                               NaN                         NaN   \n",
       "3                               NaN                         NaN   \n",
       "4                               NaN                         NaN   \n",
       "\n",
       "  retweeted_status.place.full_name retweeted_status.place.country_code  \\\n",
       "0                              NaN                                 NaN   \n",
       "1                              NaN                                 NaN   \n",
       "2                              NaN                                 NaN   \n",
       "3                              NaN                                 NaN   \n",
       "4                              NaN                                 NaN   \n",
       "\n",
       "  retweeted_status.place.country  retweeted_status.place.contained_within  \\\n",
       "0                            NaN                                      NaN   \n",
       "1                            NaN                                      NaN   \n",
       "2                            NaN                                      NaN   \n",
       "3                            NaN                                      NaN   \n",
       "4                            NaN                                      NaN   \n",
       "\n",
       "   retweeted_status.place.bounding_box.type  \\\n",
       "0                                       NaN   \n",
       "1                                       NaN   \n",
       "2                                       NaN   \n",
       "3                                       NaN   \n",
       "4                                       NaN   \n",
       "\n",
       "   retweeted_status.place.bounding_box.coordinates  \\\n",
       "0                                              NaN   \n",
       "1                                              NaN   \n",
       "2                                              NaN   \n",
       "3                                              NaN   \n",
       "4                                              NaN   \n",
       "\n",
       "   retweeted_status.quoted_status.entities.media  \\\n",
       "0                                            NaN   \n",
       "1                                            NaN   \n",
       "2                                            NaN   \n",
       "3                                            NaN   \n",
       "4                                            NaN   \n",
       "\n",
       "   retweeted_status.quoted_status.extended_entities.media  \n",
       "0                                                NaN       \n",
       "1                                                NaN       \n",
       "2                                                NaN       \n",
       "3                                                NaN       \n",
       "4                                                NaN       \n",
       "\n",
       "[5 rows x 312 columns]"
      ],
      "text/html": "<div>\n<style scoped>\n    .dataframe tbody tr th:only-of-type {\n        vertical-align: middle;\n    }\n\n    .dataframe tbody tr th {\n        vertical-align: top;\n    }\n\n    .dataframe thead th {\n        text-align: right;\n    }\n</style>\n<table border=\"1\" class=\"dataframe\">\n  <thead>\n    <tr style=\"text-align: right;\">\n      <th></th>\n      <th>created_at</th>\n      <th>id</th>\n      <th>id_str</th>\n      <th>text</th>\n      <th>truncated</th>\n      <th>source</th>\n      <th>in_reply_to_status_id</th>\n      <th>in_reply_to_status_id_str</th>\n      <th>in_reply_to_user_id</th>\n      <th>in_reply_to_user_id_str</th>\n      <th>...</th>\n      <th>retweeted_status.place.place_type</th>\n      <th>retweeted_status.place.name</th>\n      <th>retweeted_status.place.full_name</th>\n      <th>retweeted_status.place.country_code</th>\n      <th>retweeted_status.place.country</th>\n      <th>retweeted_status.place.contained_within</th>\n      <th>retweeted_status.place.bounding_box.type</th>\n      <th>retweeted_status.place.bounding_box.coordinates</th>\n      <th>retweeted_status.quoted_status.entities.media</th>\n      <th>retweeted_status.quoted_status.extended_entities.media</th>\n    </tr>\n  </thead>\n  <tbody>\n    <tr>\n      <th>0</th>\n      <td>Thu May 06 23:59:54 +0000 2021</td>\n      <td>1390456320923418626</td>\n      <td>1390456320923418626</td>\n      <td>@foryoushawnx mds?? \\n\\n #SarahAndrade TÔ COM ...</td>\n      <td>True</td>\n      <td>&lt;a href=\"http://twitter.com/download/android\" ...</td>\n      <td>1.390367e+18</td>\n      <td>1390366772457521154</td>\n      <td>1.030465e+18</td>\n      <td>1030464798612484096</td>\n      <td>...</td>\n      <td>NaN</td>\n      <td>NaN</td>\n      <td>NaN</td>\n      <td>NaN</td>\n      <td>NaN</td>\n      <td>NaN</td>\n      <td>NaN</td>\n      <td>NaN</td>\n      <td>NaN</td>\n      <td>NaN</td>\n    </tr>\n    <tr>\n      <th>1</th>\n      <td>Thu May 06 23:59:54 +0000 2021</td>\n      <td>1390456319149289482</td>\n      <td>1390456319149289482</td>\n      <td>O que tem pra fazer hoje?\\nAbstinência de #BBB21</td>\n      <td>False</td>\n      <td>&lt;a href=\"http://twitter.com/download/android\" ...</td>\n      <td>NaN</td>\n      <td>None</td>\n      <td>NaN</td>\n      <td>None</td>\n      <td>...</td>\n      <td>NaN</td>\n      <td>NaN</td>\n      <td>NaN</td>\n      <td>NaN</td>\n      <td>NaN</td>\n      <td>NaN</td>\n      <td>NaN</td>\n      <td>NaN</td>\n      <td>NaN</td>\n      <td>NaN</td>\n    </tr>\n    <tr>\n      <th>2</th>\n      <td>Thu May 06 23:59:53 +0000 2021</td>\n      <td>1390456316142002180</td>\n      <td>1390456316142002180</td>\n      <td>RT @JaimeFreir3: Olha o nome da cama 🤫😁 #BBB21...</td>\n      <td>False</td>\n      <td>&lt;a href=\"http://twitter.com/download/android\" ...</td>\n      <td>NaN</td>\n      <td>None</td>\n      <td>NaN</td>\n      <td>None</td>\n      <td>...</td>\n      <td>NaN</td>\n      <td>NaN</td>\n      <td>NaN</td>\n      <td>NaN</td>\n      <td>NaN</td>\n      <td>NaN</td>\n      <td>NaN</td>\n      <td>NaN</td>\n      <td>NaN</td>\n      <td>NaN</td>\n    </tr>\n    <tr>\n      <th>3</th>\n      <td>Thu May 06 23:59:53 +0000 2021</td>\n      <td>1390456313172406275</td>\n      <td>1390456313172406275</td>\n      <td>@horanwllx .\\n\\nGilberto Carla Diaz Caio Arcre...</td>\n      <td>True</td>\n      <td>&lt;a href=\"http://twitter.com/download/android\" ...</td>\n      <td>1.390456e+18</td>\n      <td>1390455869519892480</td>\n      <td>1.305844e+18</td>\n      <td>1305843822526631941</td>\n      <td>...</td>\n      <td>NaN</td>\n      <td>NaN</td>\n      <td>NaN</td>\n      <td>NaN</td>\n      <td>NaN</td>\n      <td>NaN</td>\n      <td>NaN</td>\n      <td>NaN</td>\n      <td>NaN</td>\n      <td>NaN</td>\n    </tr>\n    <tr>\n      <th>4</th>\n      <td>Thu May 06 23:59:52 +0000 2021</td>\n      <td>1390456309670203394</td>\n      <td>1390456309670203394</td>\n      <td>Eu não fico em cima do muro, nunca fiquei!!\\nD...</td>\n      <td>True</td>\n      <td>&lt;a href=\"https://mobile.twitter.com\" rel=\"nofo...</td>\n      <td>NaN</td>\n      <td>None</td>\n      <td>NaN</td>\n      <td>None</td>\n      <td>...</td>\n      <td>NaN</td>\n      <td>NaN</td>\n      <td>NaN</td>\n      <td>NaN</td>\n      <td>NaN</td>\n      <td>NaN</td>\n      <td>NaN</td>\n      <td>NaN</td>\n      <td>NaN</td>\n      <td>NaN</td>\n    </tr>\n  </tbody>\n</table>\n<p>5 rows × 312 columns</p>\n</div>"
     },
     "metadata": {},
     "execution_count": 9
    }
   ],
   "source": [
    "tweets_test = [tweet._json for tweet in tmpTweets]\n",
    "\n",
    "df = pd.json_normalize(tweets_test)\n",
    "\n",
    "df.head()"
   ]
  },
  {
   "cell_type": "code",
   "execution_count": 10,
   "metadata": {},
   "outputs": [
    {
     "output_type": "execute_result",
     "data": {
      "text/plain": [
       "(1000, 312)"
      ]
     },
     "metadata": {},
     "execution_count": 10
    }
   ],
   "source": [
    "df.shape"
   ]
  },
  {
   "cell_type": "code",
   "execution_count": 12,
   "metadata": {
    "tags": []
   },
   "outputs": [
    {
     "output_type": "execute_result",
     "data": {
      "text/plain": [
       "'\\nfor tweet in tmpTweets:\\n    if tweet.created_at < endDate and tweet.created_at > startDate:\\n        tweets.append(tweet)\\n\\nwhile (tmpTweets[-1].created_at > startDate):\\n    tmpTweets = api.user_timeline(username, max_id = tmpTweets[-1].id)\\n    for tweet in tmpTweets:\\n        if tweet.created_at < endDate and tweet.created_at > startDate:\\n            tweets.append(tweet)\\n'"
      ]
     },
     "metadata": {},
     "execution_count": 12
    }
   ],
   "source": [
    "import datetime\n",
    "\n",
    "startDate = datetime.datetime(2021, 5, 6, 0, 0, 0)\n",
    "endDate =   datetime.datetime(2021, 5, 6, 4, 0, 0)\n",
    "\n",
    "tweets = [tweet._json for tweet in tmpTweets if tweet.created_at < endDate and tweet.created_at > startDate]"
   ]
  }
 ]
}